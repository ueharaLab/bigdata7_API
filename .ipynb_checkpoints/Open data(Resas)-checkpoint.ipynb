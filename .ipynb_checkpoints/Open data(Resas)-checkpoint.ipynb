{
 "cells": [
  {
   "cell_type": "markdown",
   "id": "498271e9",
   "metadata": {
    "id": "498271e9"
   },
   "source": [
    "# RESAS API プログラミング\n",
    "以下のリンクはRESAS APIを使ってデータを収集するpythonプログラミングの記事。詳しく書かれている。  \n",
    "\n",
    "https://note.nkmk.me/python-resas-api-download/  \n",
    "\n",
    "上記の記事の後半　例: 一人当たり地方税　のコーディングが以下  \n",
    "\n",
    "api_key={\"X-API-KEY\":\"\"}の\" ”内に、APIキーを貼り付けて実行"
   ]
  },
  {
   "cell_type": "code",
   "execution_count": 1,
   "id": "04ad19b0",
   "metadata": {
    "colab": {
     "base_uri": "https://localhost:8080/"
    },
    "executionInfo": {
     "elapsed": 1007,
     "status": "ok",
     "timestamp": 1695794966205,
     "user": {
      "displayName": "Hiroshi Uehara DM",
      "userId": "05945147751071500860"
     },
     "user_tz": -540
    },
    "id": "04ad19b0",
    "outputId": "e1ef0bb6-c20c-4799-8596-fc57c4af3e41"
   },
   "outputs": [
    {
     "name": "stdout",
     "output_type": "stream",
     "text": [
      "https://opendata.resas-portal.go.jp/api/v1/municipality/taxes/perYear?prefCode=13&cityCode=13103\n",
      "{'message': None,\n",
      " 'result': {'cityCode': '13103',\n",
      "            'cityName': '港区',\n",
      "            'data': [{'value': 335, 'year': 2008},\n",
      "                     {'value': 326, 'year': 2009},\n",
      "                     {'value': 286, 'year': 2010},\n",
      "                     {'value': 277, 'year': 2011},\n",
      "                     {'value': 254, 'year': 2012},\n",
      "                     {'value': 262, 'year': 2013},\n",
      "                     {'value': 304, 'year': 2014},\n",
      "                     {'value': 292, 'year': 2015},\n",
      "                     {'value': 308, 'year': 2016},\n",
      "                     {'value': 303, 'year': 2017},\n",
      "                     {'value': 304, 'year': 2018},\n",
      "                     {'value': 331, 'year': 2019},\n",
      "                     {'value': 320, 'year': 2020},\n",
      "                     {'value': 337, 'year': 2021}],\n",
      "            'prefCode': 13,\n",
      "            'prefName': '東京都'}}\n"
     ]
    }
   ],
   "source": [
    "import json\n",
    "import urllib.parse\n",
    "import urllib.request\n",
    "import pprint\n",
    "import pandas as pd\n",
    "\n",
    "# web urlではページ毎のid だったが、apiでは、各データへのアクセスポイント\n",
    "url_base = 'https://opendata.resas-portal.go.jp/api/v1/municipality/taxes/perYear'\n",
    "\n",
    "p = {'prefCode': 13, 'cityCode': 13103}\n",
    "url = url_base + '?' + urllib.parse.urlencode(p)\n",
    "print(url)\n",
    "\n",
    "api_key={\"X-API-KEY\":\"\"}\n",
    "req = urllib.request.Request(url, headers=api_key)\n",
    "response = urllib.request.urlopen(req) \n",
    "data = response.read()\n",
    "\n",
    "d = json.loads(data.decode())\n",
    "\n",
    "pprint.pprint(d)"
   ]
  },
  {
   "cell_type": "markdown",
   "id": "0f0329af",
   "metadata": {
    "id": "0f0329af"
   },
   "source": [
    "# API 仕様を理解する\n",
    "税金データを取得するAPI仕様  \n",
    "\n",
    "https://opendata.resas-portal.go.jp/docs/api/v1/municipality/taxes/perYear.html  \n",
    "\n",
    "1. 仕様の先頭にある以下のURLが、上記プログラムのどこに対応するのかを理解すること。  \n",
    "\n",
    "\tGET api/v1/municipality/taxes/perYea  \n",
    "\n",
    "\n",
    "2. 仕様のparametersの記述が、上記プログラムのどこに対応するのかを理解すること。  \n",
    "   - リンクのサイドメニュー上のほうにリンクがある。これもプログラムと対比すること\n",
    "   \n",
    "\n",
    "3. 仕様のResponsesの記述は返却されるデータ項目  \n",
    "   -  このデータ項目がpprint.pprint(d)で表示されることを理解すること\n"
   ]
  },
  {
   "cell_type": "markdown",
   "id": "7b3b93c6",
   "metadata": {
    "id": "7b3b93c6"
   },
   "source": [
    "# 外国人観光客データの取得\n",
    "上記のプログラムを修正して、スライドの演習をやってください。（以下のプログラムの#の個所に適切なコードを書きこむ）  \n",
    "\n",
    "https://opendata.resas-portal.go.jp/docs/api/v1/tourism/foreigners/forFrom.html\n",
    "\n"
   ]
  },
  {
   "cell_type": "code",
   "execution_count": 3,
   "id": "efa8ba52",
   "metadata": {
    "colab": {
     "base_uri": "https://localhost:8080/"
    },
    "executionInfo": {
     "elapsed": 964,
     "status": "ok",
     "timestamp": 1695794982239,
     "user": {
      "displayName": "Hiroshi Uehara DM",
      "userId": "05945147751071500860"
     },
     "user_tz": -540
    },
    "id": "efa8ba52",
    "outputId": "ce205e86-0719-43fb-b392-2e05b278db3e"
   },
   "outputs": [
    {
     "name": "stdout",
     "output_type": "stream",
     "text": [
      "https://opendata.resas-portal.go.jp/api/v1/tourism/foreigners/forFrom?year=2019&prefCode=11&purpose=1\n",
      "{'message': None,\n",
      " 'result': {'changes': [{'countryCode': '103',\n",
      "                         'countryName': '大韓民国',\n",
      "                         'data': [{'quarter': 1, 'value': 8598, 'year': 2019},\n",
      "                                  {'quarter': 2, 'value': 15552, 'year': 2019},\n",
      "                                  {'quarter': 3, 'value': 10367, 'year': 2019},\n",
      "                                  {'quarter': 4, 'value': 9884, 'year': 2019}]},\n",
      "                        {'countryCode': '105',\n",
      "                         'countryName': '中華人民共和国',\n",
      "                         'data': [{'quarter': 1, 'value': 11508, 'year': 2019},\n",
      "                                  {'quarter': 2, 'value': 24033, 'year': 2019},\n",
      "                                  {'quarter': 3, 'value': 17594, 'year': 2019},\n",
      "                                  {'quarter': 4,\n",
      "                                   'value': 15970,\n",
      "                                   'year': 2019}]},\n",
      "                        {'countryCode': '106',\n",
      "                         'countryName': '台湾',\n",
      "                         'data': [{'quarter': 1, 'value': 9456, 'year': 2019},\n",
      "                                  {'quarter': 2, 'value': 19165, 'year': 2019},\n",
      "                                  {'quarter': 3, 'value': 12584, 'year': 2019},\n",
      "                                  {'quarter': 4,\n",
      "                                   'value': 12223,\n",
      "                                   'year': 2019}]},\n",
      "                        {'countryCode': '108',\n",
      "                         'countryName': '香港',\n",
      "                         'data': [{'quarter': 1, 'value': 1481, 'year': 2019},\n",
      "                                  {'quarter': 2, 'value': 8583, 'year': 2019},\n",
      "                                  {'quarter': 3, 'value': 3683, 'year': 2019},\n",
      "                                  {'quarter': 4, 'value': 7532, 'year': 2019}]},\n",
      "                        {'countryCode': '110',\n",
      "                         'countryName': 'ベトナム',\n",
      "                         'data': [{'quarter': 1, 'value': 7432, 'year': 2019},\n",
      "                                  {'quarter': 2, 'value': 4959, 'year': 2019},\n",
      "                                  {'quarter': 3, 'value': 2131, 'year': 2019},\n",
      "                                  {'quarter': 4, 'value': 3842, 'year': 2019}]},\n",
      "                        {'countryCode': '111',\n",
      "                         'countryName': 'タイ',\n",
      "                         'data': [{'quarter': 1, 'value': 4152, 'year': 2019},\n",
      "                                  {'quarter': 2, 'value': 9118, 'year': 2019},\n",
      "                                  {'quarter': 3, 'value': 6160, 'year': 2019},\n",
      "                                  {'quarter': 4, 'value': 6189, 'year': 2019}]},\n",
      "                        {'countryCode': '112',\n",
      "                         'countryName': 'シンガポール',\n",
      "                         'data': [{'quarter': 1, 'value': 306, 'year': 2019},\n",
      "                                  {'quarter': 2, 'value': 1059, 'year': 2019},\n",
      "                                  {'quarter': 3, 'value': 217, 'year': 2019},\n",
      "                                  {'quarter': 4, 'value': 319, 'year': 2019}]},\n",
      "                        {'countryCode': '113',\n",
      "                         'countryName': 'マレーシア',\n",
      "                         'data': [{'quarter': 1, 'value': 1716, 'year': 2019},\n",
      "                                  {'quarter': 2, 'value': 2350, 'year': 2019},\n",
      "                                  {'quarter': 3, 'value': 1362, 'year': 2019},\n",
      "                                  {'quarter': 4, 'value': 2682, 'year': 2019}]},\n",
      "                        {'countryCode': '117',\n",
      "                         'countryName': 'フィリピン',\n",
      "                         'data': [{'quarter': 1, 'value': 2716, 'year': 2019},\n",
      "                                  {'quarter': 2, 'value': 4031, 'year': 2019},\n",
      "                                  {'quarter': 3, 'value': 3297, 'year': 2019},\n",
      "                                  {'quarter': 4, 'value': 5471, 'year': 2019}]},\n",
      "                        {'countryCode': '118',\n",
      "                         'countryName': 'インドネシア',\n",
      "                         'data': [{'quarter': 1, 'value': 1429, 'year': 2019},\n",
      "                                  {'quarter': 2, 'value': 2076, 'year': 2019},\n",
      "                                  {'quarter': 3, 'value': 920, 'year': 2019},\n",
      "                                  {'quarter': 4, 'value': 2060, 'year': 2019}]},\n",
      "                        {'countryCode': '123',\n",
      "                         'countryName': 'インド',\n",
      "                         'data': [{'quarter': 1, 'value': 0, 'year': 2019},\n",
      "                                  {'quarter': 2, 'value': 431, 'year': 2019},\n",
      "                                  {'quarter': 3, 'value': 1558, 'year': 2019},\n",
      "                                  {'quarter': 4, 'value': 1112, 'year': 2019}]},\n",
      "                        {'countryCode': '205',\n",
      "                         'countryName': '英国',\n",
      "                         'data': [{'quarter': 1, 'value': 478, 'year': 2019},\n",
      "                                  {'quarter': 2, 'value': 2117, 'year': 2019},\n",
      "                                  {'quarter': 3, 'value': 0, 'year': 2019},\n",
      "                                  {'quarter': 4, 'value': 4015, 'year': 2019}]},\n",
      "                        {'countryCode': '210',\n",
      "                         'countryName': 'フランス',\n",
      "                         'data': [{'quarter': 1, 'value': 780, 'year': 2019},\n",
      "                                  {'quarter': 2, 'value': 695, 'year': 2019},\n",
      "                                  {'quarter': 3, 'value': 1306, 'year': 2019},\n",
      "                                  {'quarter': 4, 'value': 391, 'year': 2019}]},\n",
      "                        {'countryCode': '213',\n",
      "                         'countryName': 'ドイツ',\n",
      "                         'data': [{'quarter': 1, 'value': 1644, 'year': 2019},\n",
      "                                  {'quarter': 2, 'value': 665, 'year': 2019},\n",
      "                                  {'quarter': 3, 'value': 1671, 'year': 2019},\n",
      "                                  {'quarter': 4, 'value': 720, 'year': 2019}]},\n",
      "                        {'countryCode': '218',\n",
      "                         'countryName': 'スペイン',\n",
      "                         'data': [{'quarter': 1, 'value': 0, 'year': 2019},\n",
      "                                  {'quarter': 2, 'value': 468, 'year': 2019},\n",
      "                                  {'quarter': 3, 'value': 319, 'year': 2019},\n",
      "                                  {'quarter': 4, 'value': 212, 'year': 2019}]},\n",
      "                        {'countryCode': '220',\n",
      "                         'countryName': 'イタリア',\n",
      "                         'data': [{'quarter': 1, 'value': 251, 'year': 2019},\n",
      "                                  {'quarter': 2, 'value': 219, 'year': 2019},\n",
      "                                  {'quarter': 3, 'value': 402, 'year': 2019},\n",
      "                                  {'quarter': 4, 'value': 1063, 'year': 2019}]},\n",
      "                        {'countryCode': '224',\n",
      "                         'countryName': 'ロシア',\n",
      "                         'data': [{'quarter': 1, 'value': 0, 'year': 2019},\n",
      "                                  {'quarter': 2, 'value': 0, 'year': 2019},\n",
      "                                  {'quarter': 3, 'value': 0, 'year': 2019},\n",
      "                                  {'quarter': 4, 'value': 675, 'year': 2019}]},\n",
      "                        {'countryCode': '302',\n",
      "                         'countryName': 'カナダ',\n",
      "                         'data': [{'quarter': 1, 'value': 1815, 'year': 2019},\n",
      "                                  {'quarter': 2, 'value': 1689, 'year': 2019},\n",
      "                                  {'quarter': 3, 'value': 639, 'year': 2019},\n",
      "                                  {'quarter': 4, 'value': 539, 'year': 2019}]},\n",
      "                        {'countryCode': '304',\n",
      "                         'countryName': 'アメリカ合衆国',\n",
      "                         'data': [{'quarter': 1, 'value': 2585, 'year': 2019},\n",
      "                                  {'quarter': 2, 'value': 5060, 'year': 2019},\n",
      "                                  {'quarter': 3, 'value': 6107, 'year': 2019},\n",
      "                                  {'quarter': 4, 'value': 4863, 'year': 2019}]},\n",
      "                        {'countryCode': '601',\n",
      "                         'countryName': 'オーストラリア',\n",
      "                         'data': [{'quarter': 1, 'value': 2031, 'year': 2019},\n",
      "                                  {'quarter': 2, 'value': 1244, 'year': 2019},\n",
      "                                  {'quarter': 3, 'value': 608, 'year': 2019},\n",
      "                                  {'quarter': 4,\n",
      "                                   'value': 1954,\n",
      "                                   'year': 2019}]}],\n",
      "            'prefCode': '11',\n",
      "            'prefName': '埼玉県',\n",
      "            'purpose': 1,\n",
      "            'year': 2019}}\n"
     ]
    }
   ],
   "source": [
    "import json\n",
    "import urllib.parse\n",
    "import urllib.request\n",
    "import pprint\n",
    "import pandas as pd\n",
    "\n",
    "url_base = ''#\n",
    "\n",
    "p = {'year': 2019,}#\n",
    "url = #\n",
    "print(url)\n",
    "\n",
    "api_key={\"\"}#\n",
    "req = urllib.request.Request(url, headers=api_key)\n",
    "\n",
    "with urllib.request.urlopen(req) as response:\n",
    "    data = response.read()\n",
    "\n",
    "d = #\n",
    "\n",
    "pprint.pprint(d)"
   ]
  },
  {
   "cell_type": "markdown",
   "id": "eada658a",
   "metadata": {
    "id": "eada658a"
   },
   "source": [
    "## パスを記述して特定のデータを取り出す\n",
    "- 大韓民国を取り出す\n",
    "- 台湾を取り出す"
   ]
  },
  {
   "cell_type": "code",
   "execution_count": 3,
   "id": "1ae3dc1d",
   "metadata": {
    "colab": {
     "base_uri": "https://localhost:8080/",
     "height": 35
    },
    "executionInfo": {
     "elapsed": 636,
     "status": "ok",
     "timestamp": 1695794991032,
     "user": {
      "displayName": "Hiroshi Uehara DM",
      "userId": "05945147751071500860"
     },
     "user_tz": -540
    },
    "id": "1ae3dc1d",
    "outputId": "be01c73c-3462-46ce-bdbd-fdd6b4bc6b9c"
   },
   "outputs": [
    {
     "data": {
      "application/vnd.google.colaboratory.intrinsic+json": {
       "type": "string"
      },
      "text/plain": [
       "'大韓民国'"
      ]
     },
     "execution_count": 3,
     "metadata": {},
     "output_type": "execute_result"
    }
   ],
   "source": [
    "d['result']['changes'][0]['countryName']"
   ]
  },
  {
   "cell_type": "markdown",
   "id": "3cc2c719",
   "metadata": {
    "id": "3cc2c719"
   },
   "source": [
    "'data'にたどり着いてみる。そこから更に第2四半期の訪問者数を表示するにはどうしたらよいか"
   ]
  },
  {
   "cell_type": "code",
   "execution_count": 4,
   "id": "7f82cd0a",
   "metadata": {
    "colab": {
     "base_uri": "https://localhost:8080/"
    },
    "executionInfo": {
     "elapsed": 332,
     "status": "ok",
     "timestamp": 1695794995292,
     "user": {
      "displayName": "Hiroshi Uehara DM",
      "userId": "05945147751071500860"
     },
     "user_tz": -540
    },
    "id": "7f82cd0a",
    "outputId": "6fc70872-aa78-4d7f-fd53-a492a1afd8d6"
   },
   "outputs": [
    {
     "data": {
      "text/plain": [
       "15552"
      ]
     },
     "execution_count": 4,
     "metadata": {},
     "output_type": "execute_result"
    }
   ],
   "source": [
    "d['result']['changes'][0]['data'][1]['value']"
   ]
  },
  {
   "cell_type": "markdown",
   "id": "32b185d6",
   "metadata": {},
   "source": [
    "# Json 演習\n",
    "- 基本構造は辞書型\n",
    "- 辞書型の値には，文字列や数値だけでなく，リスト型や辞書型もとれる\n",
    "- 辞書型の基本形は　{key:value, key:value   }\n",
    "- 以下から千代田区の人口を取り出してみよ\n",
    "- 練馬区の人口　900000を追加せよ\n"
   ]
  },
  {
   "cell_type": "code",
   "execution_count": 4,
   "id": "ffc047df",
   "metadata": {},
   "outputs": [],
   "source": [
    "import json\n",
    "people = {'港区':50000, '千代田区':200000,'世田谷区':700000}"
   ]
  },
  {
   "cell_type": "markdown",
   "id": "70e8e2ff",
   "metadata": {},
   "source": [
    "### 階層型\n",
    "- 辞書のvalueに辞書型をとる\n",
    "- 以下のデータ構造から熊谷市の人口を取り出せ\n",
    "- 神奈川　横浜市 800000 川崎市 700000 を追加せよ"
   ]
  },
  {
   "cell_type": "code",
   "execution_count": 5,
   "id": "32a66873",
   "metadata": {},
   "outputs": [
    {
     "data": {
      "text/plain": [
       "200000"
      ]
     },
     "execution_count": 5,
     "metadata": {},
     "output_type": "execute_result"
    }
   ],
   "source": [
    "people2 = {'東京': {'港区':50000, '千代田区':200000,'世田谷区':700000}, '埼玉':{'さいたま市':50000, '熊谷市':200000}}\n"
   ]
  },
  {
   "cell_type": "markdown",
   "id": "0c80db08",
   "metadata": {},
   "source": [
    "### 異なる階層構造を同居させる\n",
    "- 首都圏の人口を取り出せ\n",
    "- 関東圏　20000000 を追加せよ\n",
    "- 以下のJsonの木構造を絵に書いてみよ"
   ]
  },
  {
   "cell_type": "code",
   "execution_count": 7,
   "id": "88553771",
   "metadata": {},
   "outputs": [],
   "source": [
    "people3 = {'東京': {'港区':50000, '千代田区':200000,'世田谷区':700000}, '埼玉':{'さいたま市':500000, '熊谷市':200000},'首都圏':12000000}\n"
   ]
  },
  {
   "cell_type": "markdown",
   "id": "857aa4a6",
   "metadata": {},
   "source": [
    "### 繰り返し構造を導入する\n",
    "- 人口を過去3年間分のリスト(2020,2021,2022)にする\n",
    "- 世田谷区の2022年の人口を取り出せ\n",
    "- for文を使って、港区の人口を次々に取り出せ\n",
    "- 以下のJsonの木構造を絵に書いてみよ"
   ]
  },
  {
   "cell_type": "code",
   "execution_count": 11,
   "id": "e5d603a4",
   "metadata": {},
   "outputs": [],
   "source": [
    "people4 = {'東京': {'港区':[80000,60000,50000], '世田谷区':[900000,800000,700000]}, '埼玉':{'さいたま市':[900000,700000,500000]}}\n",
    "         \n"
   ]
  },
  {
   "cell_type": "markdown",
   "id": "2917a2d1",
   "metadata": {},
   "source": [
    "### Json型のファイル保存と読み出し"
   ]
  },
  {
   "cell_type": "code",
   "execution_count": 13,
   "id": "9967964a",
   "metadata": {},
   "outputs": [
    {
     "name": "stdout",
     "output_type": "stream",
     "text": [
      "{'東京': {'港区': [80000, 60000, 50000], '世田谷区': [900000, 800000, 700000]}, '埼玉': {'さいたま市': [900000, 700000, 500000]}}\n"
     ]
    }
   ],
   "source": [
    "with open('test.json', 'w',encoding='utf-8') as f:\n",
    "    json.dump(people4, f)\n",
    "    \n",
    "with open('test.json',encoding=\"utf-8\") as f:\n",
    "    t = json.load(f)\n",
    "print(t)"
   ]
  },
  {
   "cell_type": "markdown",
   "id": "ddfc79a5",
   "metadata": {
    "id": "ddfc79a5"
   },
   "source": [
    "## 'countryName', 'data'  を連続して表示する\n",
    "1. 以下のプログラムの出力結果をみて、'country name'  'data' を表示できるように修正してみてください。\n",
    "1. 更に、'data'中の第1四半期～第4四半期の来訪者数を合計して表示する方法を考えてみてください。\n",
    "1. 上記をcsvに書き出してみましょう。"
   ]
  },
  {
   "cell_type": "code",
   "execution_count": 4,
   "id": "9ea913d2",
   "metadata": {
    "colab": {
     "base_uri": "https://localhost:8080/"
    },
    "executionInfo": {
     "elapsed": 302,
     "status": "ok",
     "timestamp": 1695795001228,
     "user": {
      "displayName": "Hiroshi Uehara DM",
      "userId": "05945147751071500860"
     },
     "user_tz": -540
    },
    "id": "9ea913d2",
    "outputId": "9d97cfd8-8550-41db-9360-264e0621982b"
   },
   "outputs": [
    {
     "name": "stdout",
     "output_type": "stream",
     "text": [
      "{'countryCode': '103', 'countryName': '大韓民国', 'data': [{'year': 2019, 'quarter': 1, 'value': 8598}, {'year': 2019, 'quarter': 2, 'value': 15552}, {'year': 2019, 'quarter': 3, 'value': 10367}, {'year': 2019, 'quarter': 4, 'value': 9884}]}\n",
      "{'countryCode': '105', 'countryName': '中華人民共和国', 'data': [{'year': 2019, 'quarter': 1, 'value': 11508}, {'year': 2019, 'quarter': 2, 'value': 24033}, {'year': 2019, 'quarter': 3, 'value': 17594}, {'year': 2019, 'quarter': 4, 'value': 15970}]}\n",
      "{'countryCode': '106', 'countryName': '台湾', 'data': [{'year': 2019, 'quarter': 1, 'value': 9456}, {'year': 2019, 'quarter': 2, 'value': 19165}, {'year': 2019, 'quarter': 3, 'value': 12584}, {'year': 2019, 'quarter': 4, 'value': 12223}]}\n",
      "{'countryCode': '108', 'countryName': '香港', 'data': [{'year': 2019, 'quarter': 1, 'value': 1481}, {'year': 2019, 'quarter': 2, 'value': 8583}, {'year': 2019, 'quarter': 3, 'value': 3683}, {'year': 2019, 'quarter': 4, 'value': 7532}]}\n",
      "{'countryCode': '110', 'countryName': 'ベトナム', 'data': [{'year': 2019, 'quarter': 1, 'value': 7432}, {'year': 2019, 'quarter': 2, 'value': 4959}, {'year': 2019, 'quarter': 3, 'value': 2131}, {'year': 2019, 'quarter': 4, 'value': 3842}]}\n",
      "{'countryCode': '111', 'countryName': 'タイ', 'data': [{'year': 2019, 'quarter': 1, 'value': 4152}, {'year': 2019, 'quarter': 2, 'value': 9118}, {'year': 2019, 'quarter': 3, 'value': 6160}, {'year': 2019, 'quarter': 4, 'value': 6189}]}\n",
      "{'countryCode': '112', 'countryName': 'シンガポール', 'data': [{'year': 2019, 'quarter': 1, 'value': 306}, {'year': 2019, 'quarter': 2, 'value': 1059}, {'year': 2019, 'quarter': 3, 'value': 217}, {'year': 2019, 'quarter': 4, 'value': 319}]}\n",
      "{'countryCode': '113', 'countryName': 'マレーシア', 'data': [{'year': 2019, 'quarter': 1, 'value': 1716}, {'year': 2019, 'quarter': 2, 'value': 2350}, {'year': 2019, 'quarter': 3, 'value': 1362}, {'year': 2019, 'quarter': 4, 'value': 2682}]}\n",
      "{'countryCode': '117', 'countryName': 'フィリピン', 'data': [{'year': 2019, 'quarter': 1, 'value': 2716}, {'year': 2019, 'quarter': 2, 'value': 4031}, {'year': 2019, 'quarter': 3, 'value': 3297}, {'year': 2019, 'quarter': 4, 'value': 5471}]}\n",
      "{'countryCode': '118', 'countryName': 'インドネシア', 'data': [{'year': 2019, 'quarter': 1, 'value': 1429}, {'year': 2019, 'quarter': 2, 'value': 2076}, {'year': 2019, 'quarter': 3, 'value': 920}, {'year': 2019, 'quarter': 4, 'value': 2060}]}\n",
      "{'countryCode': '123', 'countryName': 'インド', 'data': [{'year': 2019, 'quarter': 1, 'value': 0}, {'year': 2019, 'quarter': 2, 'value': 431}, {'year': 2019, 'quarter': 3, 'value': 1558}, {'year': 2019, 'quarter': 4, 'value': 1112}]}\n",
      "{'countryCode': '205', 'countryName': '英国', 'data': [{'year': 2019, 'quarter': 1, 'value': 478}, {'year': 2019, 'quarter': 2, 'value': 2117}, {'year': 2019, 'quarter': 3, 'value': 0}, {'year': 2019, 'quarter': 4, 'value': 4015}]}\n",
      "{'countryCode': '210', 'countryName': 'フランス', 'data': [{'year': 2019, 'quarter': 1, 'value': 780}, {'year': 2019, 'quarter': 2, 'value': 695}, {'year': 2019, 'quarter': 3, 'value': 1306}, {'year': 2019, 'quarter': 4, 'value': 391}]}\n",
      "{'countryCode': '213', 'countryName': 'ドイツ', 'data': [{'year': 2019, 'quarter': 1, 'value': 1644}, {'year': 2019, 'quarter': 2, 'value': 665}, {'year': 2019, 'quarter': 3, 'value': 1671}, {'year': 2019, 'quarter': 4, 'value': 720}]}\n",
      "{'countryCode': '218', 'countryName': 'スペイン', 'data': [{'year': 2019, 'quarter': 1, 'value': 0}, {'year': 2019, 'quarter': 2, 'value': 468}, {'year': 2019, 'quarter': 3, 'value': 319}, {'year': 2019, 'quarter': 4, 'value': 212}]}\n",
      "{'countryCode': '220', 'countryName': 'イタリア', 'data': [{'year': 2019, 'quarter': 1, 'value': 251}, {'year': 2019, 'quarter': 2, 'value': 219}, {'year': 2019, 'quarter': 3, 'value': 402}, {'year': 2019, 'quarter': 4, 'value': 1063}]}\n",
      "{'countryCode': '224', 'countryName': 'ロシア', 'data': [{'year': 2019, 'quarter': 1, 'value': 0}, {'year': 2019, 'quarter': 2, 'value': 0}, {'year': 2019, 'quarter': 3, 'value': 0}, {'year': 2019, 'quarter': 4, 'value': 675}]}\n",
      "{'countryCode': '302', 'countryName': 'カナダ', 'data': [{'year': 2019, 'quarter': 1, 'value': 1815}, {'year': 2019, 'quarter': 2, 'value': 1689}, {'year': 2019, 'quarter': 3, 'value': 639}, {'year': 2019, 'quarter': 4, 'value': 539}]}\n",
      "{'countryCode': '304', 'countryName': 'アメリカ合衆国', 'data': [{'year': 2019, 'quarter': 1, 'value': 2585}, {'year': 2019, 'quarter': 2, 'value': 5060}, {'year': 2019, 'quarter': 3, 'value': 6107}, {'year': 2019, 'quarter': 4, 'value': 4863}]}\n",
      "{'countryCode': '601', 'countryName': 'オーストラリア', 'data': [{'year': 2019, 'quarter': 1, 'value': 2031}, {'year': 2019, 'quarter': 2, 'value': 1244}, {'year': 2019, 'quarter': 3, 'value': 608}, {'year': 2019, 'quarter': 4, 'value': 1954}]}\n"
     ]
    }
   ],
   "source": [
    "for foreigners in d['result']['changes']:\n",
    "    print(foreigners)"
   ]
  },
  {
   "cell_type": "code",
   "execution_count": 5,
   "id": "158bc46d",
   "metadata": {
    "colab": {
     "base_uri": "https://localhost:8080/"
    },
    "executionInfo": {
     "elapsed": 321,
     "status": "ok",
     "timestamp": 1695795011849,
     "user": {
      "displayName": "Hiroshi Uehara DM",
      "userId": "05945147751071500860"
     },
     "user_tz": -540
    },
    "id": "158bc46d",
    "outputId": "8ca3c2f1-29de-439c-bb6b-cca92894b606"
   },
   "outputs": [
    {
     "name": "stdout",
     "output_type": "stream",
     "text": [
      "大韓民国 44401\n",
      "中華人民共和国 69105\n",
      "台湾 53428\n",
      "香港 21279\n",
      "ベトナム 18364\n",
      "タイ 25619\n",
      "シンガポール 1901\n",
      "マレーシア 8110\n",
      "フィリピン 15515\n",
      "インドネシア 6485\n",
      "インド 3101\n",
      "英国 6610\n",
      "フランス 3172\n",
      "ドイツ 4700\n",
      "スペイン 999\n",
      "イタリア 1935\n",
      "ロシア 675\n",
      "カナダ 4682\n",
      "アメリカ合衆国 18615\n",
      "オーストラリア 5837\n"
     ]
    }
   ],
   "source": []
  },
  {
   "cell_type": "code",
   "execution_count": null,
   "id": "feaacbe4",
   "metadata": {
    "id": "feaacbe4"
   },
   "outputs": [],
   "source": []
  }
 ],
 "metadata": {
  "colab": {
   "provenance": []
  },
  "kernelspec": {
   "display_name": "Python 3 (ipykernel)",
   "language": "python",
   "name": "python3"
  },
  "language_info": {
   "codemirror_mode": {
    "name": "ipython",
    "version": 3
   },
   "file_extension": ".py",
   "mimetype": "text/x-python",
   "name": "python",
   "nbconvert_exporter": "python",
   "pygments_lexer": "ipython3",
   "version": "3.9.12"
  }
 },
 "nbformat": 4,
 "nbformat_minor": 5
}
